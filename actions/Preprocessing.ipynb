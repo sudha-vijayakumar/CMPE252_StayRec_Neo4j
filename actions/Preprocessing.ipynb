{
 "cells": [
  {
   "cell_type": "code",
   "execution_count": 1,
   "metadata": {},
   "outputs": [],
   "source": [
    "import pandas as pd\n",
    "import gensim\n",
    "from gensim.parsing.preprocessing import preprocess_documents\n",
    "from gensim.models.doc2vec import Doc2Vec, TaggedDocument"
   ]
  },
  {
   "cell_type": "markdown",
   "metadata": {},
   "source": [
    "# References:\n",
    "- https://rasa.com/docs/rasa/testing-your-assistant/\n"
   ]
  },
  {
   "cell_type": "code",
   "execution_count": 5,
   "metadata": {},
   "outputs": [
    {
     "name": "stdout",
     "output_type": "stream",
     "text": [
      "<class 'pandas.core.frame.DataFrame'>\n",
      "RangeIndex: 16116 entries, 0 to 16115\n",
      "Data columns (total 74 columns):\n",
      " #   Column                                        Non-Null Count  Dtype  \n",
      "---  ------                                        --------------  -----  \n",
      " 0   id                                            16116 non-null  int64  \n",
      " 1   listing_url                                   16116 non-null  object \n",
      " 2   scrape_id                                     16116 non-null  int64  \n",
      " 3   last_scraped                                  16116 non-null  object \n",
      " 4   name                                          16086 non-null  object \n",
      " 5   description                                   15893 non-null  object \n",
      " 6   neighborhood_overview                         10405 non-null  object \n",
      " 7   picture_url                                   16116 non-null  object \n",
      " 8   host_id                                       16116 non-null  int64  \n",
      " 9   host_url                                      16116 non-null  object \n",
      " 10  host_name                                     16111 non-null  object \n",
      " 11  host_since                                    16111 non-null  object \n",
      " 12  host_location                                 16081 non-null  object \n",
      " 13  host_about                                    9060 non-null   object \n",
      " 14  host_response_time                            5036 non-null   object \n",
      " 15  host_response_rate                            5036 non-null   object \n",
      " 16  host_acceptance_rate                          5171 non-null   object \n",
      " 17  host_is_superhost                             16111 non-null  object \n",
      " 18  host_thumbnail_url                            16111 non-null  object \n",
      " 19  host_picture_url                              16111 non-null  object \n",
      " 20  host_neighbourhood                            10403 non-null  object \n",
      " 21  host_listings_count                           16111 non-null  float64\n",
      " 22  host_total_listings_count                     16111 non-null  float64\n",
      " 23  host_verifications                            16116 non-null  object \n",
      " 24  host_has_profile_pic                          16111 non-null  object \n",
      " 25  host_identity_verified                        16111 non-null  object \n",
      " 26  neighbourhood                                 10405 non-null  object \n",
      " 27  neighbourhood_cleansed                        16116 non-null  object \n",
      " 28  neighbourhood_group_cleansed                  0 non-null      float64\n",
      " 29  latitude                                      16116 non-null  float64\n",
      " 30  longitude                                     16116 non-null  float64\n",
      " 31  property_type                                 16116 non-null  object \n",
      " 32  room_type                                     16116 non-null  object \n",
      " 33  accommodates                                  16116 non-null  int64  \n",
      " 34  bathrooms                                     0 non-null      float64\n",
      " 35  bathrooms_text                                16095 non-null  object \n",
      " 36  bedrooms                                      15218 non-null  float64\n",
      " 37  beds                                          16019 non-null  float64\n",
      " 38  amenities                                     16116 non-null  object \n",
      " 39  price                                         16116 non-null  object \n",
      " 40  minimum_nights                                16116 non-null  int64  \n",
      " 41  maximum_nights                                16116 non-null  int64  \n",
      " 42  minimum_minimum_nights                        16113 non-null  float64\n",
      " 43  maximum_minimum_nights                        16113 non-null  float64\n",
      " 44  minimum_maximum_nights                        16113 non-null  float64\n",
      " 45  maximum_maximum_nights                        16113 non-null  float64\n",
      " 46  minimum_nights_avg_ntm                        16113 non-null  float64\n",
      " 47  maximum_nights_avg_ntm                        16113 non-null  float64\n",
      " 48  calendar_updated                              0 non-null      float64\n",
      " 49  has_availability                              16116 non-null  object \n",
      " 50  availability_30                               16116 non-null  int64  \n",
      " 51  availability_60                               16116 non-null  int64  \n",
      " 52  availability_90                               16116 non-null  int64  \n",
      " 53  availability_365                              16116 non-null  int64  \n",
      " 54  calendar_last_scraped                         16116 non-null  object \n",
      " 55  number_of_reviews                             16116 non-null  int64  \n",
      " 56  number_of_reviews_ltm                         16116 non-null  int64  \n",
      " 57  number_of_reviews_l30d                        16116 non-null  int64  \n",
      " 58  first_review                                  14029 non-null  object \n",
      " 59  last_review                                   14029 non-null  object \n",
      " 60  review_scores_rating                          14029 non-null  float64\n",
      " 61  review_scores_accuracy                        13815 non-null  float64\n",
      " 62  review_scores_cleanliness                     13816 non-null  float64\n",
      " 63  review_scores_checkin                         13807 non-null  float64\n",
      " 64  review_scores_communication                   13812 non-null  float64\n",
      " 65  review_scores_location                        13807 non-null  float64\n",
      " 66  review_scores_value                           13807 non-null  float64\n",
      " 67  license                                       4555 non-null   object \n",
      " 68  instant_bookable                              16116 non-null  object \n",
      " 69  calculated_host_listings_count                16116 non-null  int64  \n",
      " 70  calculated_host_listings_count_entire_homes   16116 non-null  int64  \n",
      " 71  calculated_host_listings_count_private_rooms  16116 non-null  int64  \n",
      " 72  calculated_host_listings_count_shared_rooms   16116 non-null  int64  \n",
      " 73  reviews_per_month                             14029 non-null  float64\n",
      "dtypes: float64(23), int64(17), object(34)\n",
      "memory usage: 9.1+ MB\n"
     ]
    }
   ],
   "source": [
    "listings = pd.read_csv('/Users/sudhavijayakumar/Documents/252/chatbot252/data/listings.csv.gz', sep=',')\n",
    "listings.info()"
   ]
  },
  {
   "cell_type": "code",
   "execution_count": 6,
   "metadata": {},
   "outputs": [],
   "source": [
    "# drop columns that have no value to our recommendation\n",
    "listings = listings[['id','listing_url','name','description','neighborhood_overview','picture_url', \n",
    "'property_type','room_type','accommodates','bathrooms','bathrooms_text',                               \n",
    "'bedrooms','beds','amenities','price','minimum_nights','maximum_nights','review_scores_rating',                         \n",
    "'review_scores_accuracy','review_scores_cleanliness','review_scores_checkin',\n",
    "'review_scores_communication','review_scores_location']]\n",
    "\n",
    "listings.fillna('0', inplace=True)\n",
    "\n",
    "listings.reset_index(drop = True, inplace = True)"
   ]
  },
  {
   "cell_type": "code",
   "execution_count": 7,
   "metadata": {},
   "outputs": [],
   "source": [
    "import string\n",
    "def remove_punc(sample_str):\n",
    "    # Create translation table in which special charcters\n",
    "    # are mapped to empty string\n",
    "    translation_table = str.maketrans('', '', string.punctuation)\n",
    "    # Remove special characters from the string using translation table\n",
    "    sample_str = sample_str.translate(translation_table)\n",
    "    return sample_str"
   ]
  },
  {
   "cell_type": "code",
   "execution_count": 8,
   "metadata": {},
   "outputs": [
    {
     "name": "stderr",
     "output_type": "stream",
     "text": [
      "<ipython-input-8-4c4cabdb7a57>:4: SettingWithCopyWarning: \n",
      "A value is trying to be set on a copy of a slice from a DataFrame\n",
      "\n",
      "See the caveats in the documentation: https://pandas.pydata.org/pandas-docs/stable/user_guide/indexing.html#returning-a-view-versus-a-copy\n",
      "  listings['review_scores_rating'][ind] = (float(listings['review_scores_rating'][ind]) + float(listings['review_scores_accuracy'][ind]) + float(listings['review_scores_cleanliness'][ind]) + float(listings['review_scores_checkin'][ind]) + float(listings['review_scores_communication'][ind]) + float(listings['review_scores_location'][ind]))\n",
      "<ipython-input-8-4c4cabdb7a57>:5: SettingWithCopyWarning: \n",
      "A value is trying to be set on a copy of a slice from a DataFrame\n",
      "\n",
      "See the caveats in the documentation: https://pandas.pydata.org/pandas-docs/stable/user_guide/indexing.html#returning-a-view-versus-a-copy\n",
      "  listings['review_scores_rating'][ind] = (listings['review_scores_rating'][ind])/6\n",
      "<ipython-input-8-4c4cabdb7a57>:6: SettingWithCopyWarning: \n",
      "A value is trying to be set on a copy of a slice from a DataFrame\n",
      "\n",
      "See the caveats in the documentation: https://pandas.pydata.org/pandas-docs/stable/user_guide/indexing.html#returning-a-view-versus-a-copy\n",
      "  listings['words_features'][ind] = 'amenities:'+listings['words_features'][ind] +'description:'+  listings['description'][ind] +'neighborhood_overview:'+  listings['neighborhood_overview'][ind]+'property_type:'+  listings['property_type'][ind]+'room_type:'+  listings['room_type'][ind]+'accommodates:'+  str(listings['accommodates'][ind])+'bedrooms:'+  str(listings['bedrooms'][ind])+'beds:'+  str(listings['beds'][ind])+'price range:'+  listings['price'][ind]\n"
     ]
    }
   ],
   "source": [
    "listings['words_features'] = listings['amenities'].apply(remove_punc)\n",
    "\n",
    "for ind in listings.index:\n",
    "     listings['review_scores_rating'][ind] = (float(listings['review_scores_rating'][ind]) + float(listings['review_scores_accuracy'][ind]) + float(listings['review_scores_cleanliness'][ind]) + float(listings['review_scores_checkin'][ind]) + float(listings['review_scores_communication'][ind]) + float(listings['review_scores_location'][ind]))\n",
    "     listings['review_scores_rating'][ind] = (listings['review_scores_rating'][ind])/6\n",
    "     listings['words_features'][ind] = 'amenities:'+listings['words_features'][ind] +'description:'+  listings['description'][ind] +'neighborhood_overview:'+  listings['neighborhood_overview'][ind]+'property_type:'+  listings['property_type'][ind]+'room_type:'+  listings['room_type'][ind]+'accommodates:'+  str(listings['accommodates'][ind])+'bedrooms:'+  str(listings['bedrooms'][ind])+'beds:'+  str(listings['beds'][ind])+'price range:'+  listings['price'][ind]\n",
    "listingss = listings.rename(columns={\"review_scores_rating\": \"overall_rating\"})"
   ]
  },
  {
   "cell_type": "code",
   "execution_count": 9,
   "metadata": {},
   "outputs": [],
   "source": [
    "text_corpus = listingss['words_features'].values"
   ]
  },
  {
   "cell_type": "code",
   "execution_count": 10,
   "metadata": {},
   "outputs": [],
   "source": [
    "processed_corpus = preprocess_documents(text_corpus)\n",
    "tagged_corpus = [TaggedDocument(d, [i]) for i, d in enumerate(processed_corpus)]"
   ]
  },
  {
   "cell_type": "code",
   "execution_count": 11,
   "metadata": {},
   "outputs": [],
   "source": [
    "model = Doc2Vec(tagged_corpus, dm=0, vector_size=200, window=2, min_count=1, epochs=100, hs=1)"
   ]
  },
  {
   "cell_type": "code",
   "execution_count": 13,
   "metadata": {},
   "outputs": [],
   "source": [
    "model1= model\n",
    "model.save('/Users/sudhavijayakumar/Documents/252/chatbot252/data/embeddings/lst_embeddings')"
   ]
  },
  {
   "cell_type": "code",
   "execution_count": 14,
   "metadata": {},
   "outputs": [
    {
     "name": "stdout",
     "output_type": "stream",
     "text": [
      "0.520796537399292 | https://www.airbnb.com/rooms/16190593\n",
      "0.5114002823829651 | https://www.airbnb.com/rooms/35342963\n",
      "0.49542534351348877 | https://www.airbnb.com/rooms/37290247\n",
      "0.4935804605484009 | https://www.airbnb.com/rooms/18922329\n",
      "0.49043887853622437 | https://www.airbnb.com/rooms/14443375\n",
      "0.4882311224937439 | https://www.airbnb.com/rooms/45215495\n",
      "0.47451508045196533 | https://www.airbnb.com/rooms/11581849\n",
      "0.47162145376205444 | https://www.airbnb.com/rooms/21291610\n",
      "0.4701879322528839 | https://www.airbnb.com/rooms/29307841\n",
      "0.46865570545196533 | https://www.airbnb.com/rooms/28379697\n"
     ]
    },
    {
     "name": "stderr",
     "output_type": "stream",
     "text": [
      "<ipython-input-14-6d412ac913ab>:3: DeprecationWarning: Call to deprecated `docvecs` (The `docvecs` property has been renamed `dv`.).\n",
      "  sims = model.docvecs.most_similar(positive = [test_doc_vector])\n"
     ]
    }
   ],
   "source": [
    "new_doc = gensim.parsing.preprocessing.preprocess_string(\"private room dishwasher\")\n",
    "test_doc_vector = model1.infer_vector(new_doc)\n",
    "sims = model.docvecs.most_similar(positive = [test_doc_vector])\n",
    "for s in sims:\n",
    "    print(f\"{(s[1])} | {listings['listing_url'].iloc[s[0]]}\")"
   ]
  },
  {
   "cell_type": "markdown",
   "metadata": {},
   "source": []
  }
 ],
 "metadata": {
  "interpreter": {
   "hash": "31f2aee4e71d21fbe5cf8b01ff0e069b9275f58929596ceb00d14d90e3e16cd6"
  },
  "kernelspec": {
   "display_name": "Python 3.8.2 64-bit",
   "language": "python",
   "name": "python3"
  },
  "language_info": {
   "codemirror_mode": {
    "name": "ipython",
    "version": 3
   },
   "file_extension": ".py",
   "mimetype": "text/x-python",
   "name": "python",
   "nbconvert_exporter": "python",
   "pygments_lexer": "ipython3",
   "version": "3.8.8"
  },
  "orig_nbformat": 4
 },
 "nbformat": 4,
 "nbformat_minor": 2
}
